{
 "cells": [
  {
   "cell_type": "markdown",
   "metadata": {},
   "source": [
    "# SQL Clauses\n",
    "\n",
    "## Lesson Goals\n",
    "\n",
    "- Introduce the `WHERE` clause\n",
    "- Understand how to combine `WHERE` clauses with `AND` and `OR` to create more complex queries\n",
    "    - Use keywords like `DISTINCT`, `LIKE`, and `BETWEEN` in `WHERE` clause to further filter\n",
    "- Understand how to use an `ORDER BY` clause\n",
    "- Understand how to chain in `ORDER BY` clauses\n",
    "- Understand how to get query results in batches using the `LIMIT` clause"
   ]
  },
  {
   "cell_type": "markdown",
   "metadata": {},
   "source": [
    "___"
   ]
  },
  {
   "cell_type": "markdown",
   "metadata": {},
   "source": [
    "## What Are the Elements of the SQL Select Statement?"
   ]
  },
  {
   "cell_type": "markdown",
   "metadata": {},
   "source": [
    "![SQL SELECT Statement Elements](https://i.pinimg.com/564x/1c/56/71/1c5671e3ddb2d4a9f30d5aac74811cb3.jpg)"
   ]
  },
  {
   "cell_type": "markdown",
   "metadata": {},
   "source": [
    "___"
   ]
  },
  {
   "cell_type": "markdown",
   "metadata": {},
   "source": [
    "## So What Does Each Element Do?\n",
    "\n",
    "- I can add specific conditions to my queries using a `WHERE` clause to filter or limit the result set to records that satisfy my specific criteria or condition.\n",
    "\n",
    "- I can use different keywords or operators with a `WHERE` clause to further filter the result set from my query. We will see this in our examples below."
   ]
  },
  {
   "cell_type": "markdown",
   "metadata": {},
   "source": [
    "![SQL SELECT Statement Elements Explained](https://i.pinimg.com/564x/a7/03/77/a703774088ba9335de0a6b16207271d4.jpg)"
   ]
  },
  {
   "cell_type": "markdown",
   "metadata": {},
   "source": [
    "## Now What?\n",
    "\n",
    "- Let's code!"
   ]
  },
  {
   "cell_type": "markdown",
   "metadata": {},
   "source": [
    "### Basic `WHERE` Clause\n",
    "```sql\n",
    "-- Use the albums database.\n",
    "USE albums_db;\n",
    "\n",
    "-- Return all of the rows and columns from the albums table. (returns 31 records)\n",
    "SELECT *\n",
    "FROM albums;\n",
    "\n",
    "-- Return all of the unique values in the artist column. (returns 23 records)\n",
    "SELECT DISTINCT artist\n",
    "FROM albums;\n",
    "\n",
    "-- Return all of the albums that were released in 1990. (returns 1 record)\n",
    "SELECT name\n",
    "FROM albums\n",
    "WHERE release_date = 1990;\n",
    "```"
   ]
  },
  {
   "cell_type": "markdown",
   "metadata": {},
   "source": [
    "___"
   ]
  },
  {
   "cell_type": "markdown",
   "metadata": {},
   "source": [
    "### `WHERE` with `LIKE` Keyword and `%` Wildcard\n",
    "```sql\n",
    "-- Return all of the albums that start contain the pattern 'at' somewhere in the titles. (returns 5 records)\n",
    "SELECT name \n",
    "FROM albums\n",
    "WHERE name LIKE '%at%';\n",
    "\n",
    "-- Return all of the albums wiht the word 'the' somewhere in them. (returns  9 records)\n",
    "SELECT name \n",
    "FROM albums\n",
    "WHERE name LIKE '%the%';\n",
    "\n",
    "-- Return all of the albums that end in the letter 'a'. (returns 2 records)\n",
    "SELECT name\n",
    "FROM albums\n",
    "WHERE name LIKE '%a';\n",
    "\n",
    "-- Return all of the albums that start with the letter 'a'. (returns 2  records)\n",
    "SELECT name \n",
    "FROM albums\n",
    "WHERE name LIKE 'a%';\n",
    "```"
   ]
  },
  {
   "cell_type": "markdown",
   "metadata": {},
   "source": [
    "___"
   ]
  },
  {
   "cell_type": "markdown",
   "metadata": {},
   "source": [
    "### `WHERE` with `BETWEEN` and `IN` Operators\n",
    "```sql\n",
    "-- Return all of the albums that were released in the 1990s. (returns 11 records)\n",
    "SELECT \n",
    "    name,\n",
    "    release_date\n",
    "FROM albums\n",
    "WHERE release_date BETWEEN 1990 AND 1999;\n",
    "\n",
    "-- Return the artist name, album title, and sales for all of the albums that sold between 10 and 20 million copies (returns 13 records)\n",
    "SELECT\n",
    "    artist,\n",
    "    name,\n",
    "    sales\n",
    "FROM albums\n",
    "WHERE sales BETWEEN 10 and 20;\n",
    "\n",
    "-- Switch to the chipotle database for the rest of the demo.\n",
    "USE chipotle;\n",
    "\n",
    "-- Check out the data types of my orders table.\n",
    "DESCRIBE orders;\n",
    "\n",
    "-- Return all of the rows and columns from the albums table. (returns 4622 records)\n",
    "SELECT *\n",
    "FROM orders;\n",
    "\n",
    "-- Return all of the unique values in the artist column. (returns 50 records)\n",
    "SELECT DISTINCT item_name\n",
    "FROM orders;\n",
    "\n",
    "-- Return all of the records that have chicken in the name. (returns 1560  records)\n",
    "SELECT item_name\n",
    "FROM orders\n",
    "WHERE item_name LIKE '%chicken%';\n",
    "\n",
    "-- Return only the non-repeating values for item_name that have chicken in the name. (returns 6 records)\n",
    "SELECT DISTINCT item_name\n",
    "FROM orders\n",
    "WHERE item_name LIKE '%chicken%';\n",
    "\n",
    "/*\n",
    "Return only the records that have either 'Veggie Soft Tacos', 'Crispy Tacos', or 'Steak Bowl' as a value in item_name. \n",
    "(returns 220 records)\n",
    "*/\n",
    "SELECT *\n",
    "FROM orders\n",
    "WHERE item_name IN ('Veggie Soft Tacos', 'Steak Bowl', 'Crispy Tacos');\n",
    "\n",
    "-- Return only the records with order number 1, 7, or 10. (returns 8 records)\n",
    "SELECT *\n",
    "FROM orders\n",
    "WHERE order_id IN (1, 7, 10);\n",
    "```"
   ]
  },
  {
   "cell_type": "markdown",
   "metadata": {},
   "source": [
    "___"
   ]
  },
  {
   "cell_type": "markdown",
   "metadata": {},
   "source": [
    "### `WHERE` with `IS NULL` and `IS NOT NULL`\n",
    "```sql\n",
    "-- Use my own db; yours will be your username database.\n",
    "USE bayes_825;\n",
    "\n",
    "-- Return all of the columns and roles from the users table. (returns 6 records)\n",
    "SELECT *\n",
    "FROM users;\n",
    "\n",
    "-- Return only records that don't have NULL values in role_id; (returns 4 records)\n",
    "SELECT *\n",
    "FROM users\n",
    "WHERE role_id IS NOT NULL;\n",
    "\n",
    "-- Return only records that don't have NULL values in role_id; (returns 2 records)\n",
    "SELECT *\n",
    "FROM users\n",
    "WHERE role_id IS NULL;\n",
    "```"
   ]
  },
  {
   "cell_type": "markdown",
   "metadata": {},
   "source": [
    "___"
   ]
  },
  {
   "cell_type": "markdown",
   "metadata": {},
   "source": [
    "### `WHERE` with `AND` & `OR` Operators\n",
    "\n",
    "- We can use the `OR` operator to find values that match any of our criteria, while using the `AND` operator requires that a value match all of our criteria.\n",
    "\n",
    "- 'Three words: order of operations. It's like you learned in math, certain operators take precedence over others (like multiplying comes before adding) unless you use parentheses to force it your way.' \n",
    "[source](https://stackoverflow.com/questions/8172455/why-would-the-addition-of-parentheses-in-sql-query-cause-the-results-to-change/8172521)\n",
    "\n",
    "- `NOT` has a higher precedence than `AND` which has a higher precedence than `OR`.\n",
    "\n",
    "- [Here](https://www.geeksforgeeks.org/mysql-operator-precedence/) is a very simple article reiterating what I'll demo below concerning operator precedence if you want a quick review later. Always nice to see things multiple times and in multiple ways.\n",
    "\n",
    "```sql\n",
    "/*\n",
    "Return only the records that have either 'Veggie Soft Tacos', 'Crispy Tacos', or 'Steak Bowl' as a value in item_name chaining OR operators. \n",
    "(returns 220 records)\n",
    "*/\n",
    "SELECT *\n",
    "FROM orders\n",
    "WHERE item_name = 'Veggie Soft Tacos' OR item_name = 'Steak Bowl' OR item_name = 'Crispy Tacos';\n",
    "\n",
    "-- Return only the records with order number 1, 7, or 10 chaining OR operators. (returns 8 records)\n",
    "SELECT *\n",
    "FROM orders\n",
    "WHERE order_id = 1 OR order_id = 7 OR order_id = 10;\n",
    "\n",
    "-- Return only the records that have Chicken in the name OR are a part of order 10. (returns 1561 records)\n",
    "SELECT *\n",
    "FROM orders\n",
    "WHERE item_name LIKE '%chicken%'\n",
    "    OR order_id = 10;\n",
    "\n",
    "-- Return only the records that have Chicken in the name AND are a part of order 10. (returns 1 record)\n",
    "SELECT *\n",
    "FROM orders\n",
    "WHERE item_name LIKE '%chicken%'\n",
    "    AND order_id = 10;\n",
    "\n",
    "/*\n",
    "Return only the records that have the name 'Veggie Soft Tacos' AND have order_id 304 or 322\n",
    "OR any items that have the name 'Crispy Tacos'.\n",
    "(returns 4 records)\n",
    "*/\n",
    "SELECT *\n",
    "FROM orders\n",
    "WHERE item_name = 'Veggie Soft Tacos'\n",
    "    AND order_id IN (304, 322)\n",
    "    OR item_name = 'Crispy Tacos';\n",
    "\n",
    "/*\n",
    "Return only the records that have either the order_id 304 or 322\n",
    "OR have the name 'Crispy Tacos' \n",
    "-->(conditions grouped with parentheses are evaluated first)\n",
    "AND have the name 'Veggie Soft Tacos'.\n",
    "(returns 2 records)\n",
    "*/\n",
    "SELECT *\n",
    "FROM orders\n",
    "WHERE item_name = 'Veggie Soft Tacos'\n",
    "    AND (\n",
    "        order_id IN (304, 322)\n",
    "        OR item_name = 'Crispy Tacos'\n",
    "        );\n",
    "        \n",
    "/*\n",
    "The records returned have red in the description AND tacos in the name as well as any records that have soft in the name.\n",
    "(returns 618 records)\n",
    "*/\n",
    "SELECT *\n",
    "FROM orders\n",
    "WHERE choice_description LIKE '%red%'\n",
    "    AND item_name LIKE '%tacos%'\n",
    "    OR item_name LIKE '%soft%';\n",
    "\n",
    "-- The records returned have either soft OR tacos in their name AND have red in the description.\n",
    "-- (returns 84 records)\n",
    "SELECT *\n",
    "FROM orders\n",
    "WHERE choice_description LIKE '%red%'\n",
    "    AND (\n",
    "        item_name LIKE '%tacos%'\n",
    "        OR item_name LIKE '%soft%'\n",
    "        );\n",
    "```"
   ]
  }
 ],
 "metadata": {
  "kernelspec": {
   "display_name": "Python 3",
   "language": "python",
   "name": "python3"
  },
  "language_info": {
   "codemirror_mode": {
    "name": "ipython",
    "version": 3
   },
   "file_extension": ".py",
   "mimetype": "text/x-python",
   "name": "python",
   "nbconvert_exporter": "python",
   "pygments_lexer": "ipython3",
   "version": "3.7.4"
  }
 },
 "nbformat": 4,
 "nbformat_minor": 4
}
