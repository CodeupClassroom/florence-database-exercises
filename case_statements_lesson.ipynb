{
 "cells": [
  {
   "cell_type": "markdown",
   "metadata": {},
   "source": [
    "# `CASE` Statement & `IF()` function\n",
    "\n",
    "## Lesson Goals\n",
    "- Understand how to use a `CASE` statement and why you might want to use it\n",
    "    - bucket or bin data to Zoom out or reduce noise in your data by viewing it at a higher level\n",
    "- Understand which logical operators you can use in your `CASE` statements\n",
    "    - the same set of conditional operators you can use in a `WHERE` clause can be used in a `CASE` statment\n",
    "\n",
    "<img src=https://i.pinimg.com/564x/cf/d7/43/cfd7433698b0ef4bd75e803333df8467.jpg width=\"200\">\n",
    "\n",
    "- Understand how to use the `IF()` function and when you might opt for this option\n",
    "- Understand the difference between the two above options"
   ]
  },
  {
   "cell_type": "markdown",
   "metadata": {},
   "source": [
    "___"
   ]
  },
  {
   "cell_type": "markdown",
   "metadata": {},
   "source": [
    "### What is a `CASE` Statement"
   ]
  },
  {
   "cell_type": "markdown",
   "metadata": {},
   "source": [
    "**A `CASE` Statement** allows you to  process a series of IF/THEN logical operators in a specific order. *They execute in the order they appear, so if a record satisfies more than one logical condition, the record will be assigned by the first true THEN statement.*"
   ]
  },
  {
   "cell_type": "markdown",
   "metadata": {},
   "source": [
    "<div class=\"alert alert-block alert-info\"><b>Tip:</b> You might decide to use the ELSE condition as a catch all or error message to alert you to values you were not expecting in your data or faulty logic in your IF/THEN statements.</div>\n"
   ]
  },
  {
   "cell_type": "markdown",
   "metadata": {},
   "source": [
    "Check out more explanation and examples of `CASE` Statements [here](https://ds-review-hub.github.io/sql_extras) in my review notebook."
   ]
  },
  {
   "cell_type": "markdown",
   "metadata": {},
   "source": [
    "```sql\n",
    "-- If I'm only referencing one column and only testing for equality.\n",
    "SELECT\n",
    "    CASE column_name\n",
    "        WHEN condition_a THEN value_1\n",
    "        WHEN condition_b THEN value_2\n",
    "        ELSE value_3\n",
    "        END AS new_column_name\n",
    "FROM table_name;\n",
    "\n",
    "/*\n",
    "CASE statement syntax. This allows me to reference different columns in my logic as well as use all of the conditional operators available to me in a WHERE Clause.\n",
    "*/\n",
    "SELECT\n",
    "    column_name,\n",
    "    CASE\n",
    "        WHEN column_name logic_1 THEN value1\n",
    "        WHEN column_name logic_2 THEN value2\n",
    "        WHEN column_name logic_3 THEN value3\n",
    "        ELSE catch_all_value\n",
    "        END AS new_column_name\n",
    "FROM table_name;\n",
    "```"
   ]
  },
  {
   "cell_type": "markdown",
   "metadata": {},
   "source": [
    "___"
   ]
  },
  {
   "cell_type": "markdown",
   "metadata": {},
   "source": [
    "### Why Use `CASE` Statements"
   ]
  },
  {
   "cell_type": "markdown",
   "metadata": {},
   "source": [
    "<img src=https://i.pinimg.com/564x/1c/57/49/1c5749751576e8e95aa4c6ec37725727.jpg width=\"500\">"
   ]
  },
  {
   "cell_type": "markdown",
   "metadata": {},
   "source": [
    "___"
   ]
  },
  {
   "cell_type": "markdown",
   "metadata": {},
   "source": [
    "### What Now?\n",
    "\n",
    "**Let's look at some examples.**"
   ]
  },
  {
   "cell_type": "markdown",
   "metadata": {},
   "source": [
    "```sql\n",
    "-- Choose the chipotle database\n",
    "USE chipotle;\n",
    "\n",
    "-- Check out my orders table.\n",
    "SELECT *\n",
    "FROM orders;\n",
    "```"
   ]
  },
  {
   "cell_type": "markdown",
   "metadata": {},
   "source": [
    "___"
   ]
  },
  {
   "cell_type": "markdown",
   "metadata": {},
   "source": [
    "#### Bucket Data \n",
    "\n",
    "- Use a `CASE` Statement to create categories called `item_type`.\n",
    "\n",
    "<img src=https://i.pinimg.com/564x/0e/43/26/0e43269e2d1684026a83f2e25edb8b02.jpg width=\"50\">"
   ]
  },
  {
   "cell_type": "markdown",
   "metadata": {},
   "source": [
    "```sql\n",
    "-- Use a `CASE` statement to create bins called item_type using item names.\n",
    "SELECT \n",
    "\titem_name,\n",
    "\tCASE\n",
    "\t\tWHEN item_name LIKE '%chicken%' THEN 'Chicken Item'\n",
    "\t\tWHEN item_name LIKE '%veggie%' THEN 'Veggie Item'\n",
    "\t\tWHEN item_name LIKE '%beef%' THEN 'Beef Item'\n",
    "\t\tWHEN item_name LIKE '%barbacoa%' \n",
    "\t\t\tOR item_name LIKE '%carnitas%' \n",
    "\t\t\tOR item_name LIKE '%steak%' THEN 'Specialty Item'\t\t\n",
    "\t\tWHEN item_name LIKE '%chips%' THEN 'Side'\n",
    "\t\tELSE 'Other'\n",
    "\t\tEND AS item_type\n",
    "FROM orders;\n",
    "```\n",
    "|item_name|item_type|\n",
    "|:---|:---|\n",
    "|Chips and Fresh Tomato Salsa|Side|\n",
    "|Izze|Other|\n",
    "|Nantucket Nectar|Other|\n",
    "|Chips and Tomatillo-Green Chili Salsa|Side|\n",
    "|Chicken Bowl|Chicken Item|\n",
    "..."
   ]
  },
  {
   "cell_type": "markdown",
   "metadata": {},
   "source": [
    "___"
   ]
  },
  {
   "cell_type": "markdown",
   "metadata": {},
   "source": [
    "#### Zoom Out\n",
    "\n",
    "Add a `GROUP BY` Clause and use a `COUNT()` function to look at the popularity of item types.\n",
    "\n",
    "<img src=https://i.pinimg.com/564x/41/67/ec/4167ec6a89d575055c0fab2226039399.jpg width=\"50\">"
   ]
  },
  {
   "cell_type": "markdown",
   "metadata": {},
   "source": [
    "```sql\n",
    "-- How many different items do I have for each item type bin or category?\n",
    "SELECT \n",
    "\tCASE\n",
    "\t\tWHEN item_name LIKE '%chicken%' THEN 'Chicken Item'\n",
    "\t\tWHEN item_name LIKE '%veggie%' THEN 'Veggie Item'\n",
    "\t\tWHEN item_name LIKE '%beef%' THEN 'Beef Item'\n",
    "\t\tWHEN item_name LIKE '%barbacoa%' \n",
    "\t\t\tOR item_name LIKE '%carnitas%' \n",
    "\t\t\tOR item_name LIKE '%steak%' THEN 'Specialty Item'\t\t\n",
    "\t\tWHEN item_name LIKE '%chips%' THEN 'Side'\n",
    "\t\tELSE 'Other'\n",
    "\t\tEND AS item_type,\n",
    "\tCOUNT(*) count_of_records\n",
    "FROM orders\n",
    "GROUP BY item_type\n",
    "ORDER BY count_of_records DESC;\n",
    "```\n",
    "|  item_type  | count_of_records|\n",
    "|:-----|----:|\n",
    "|Chicken Item |1560|\n",
    "|Specialty Item|1086|\n",
    "|Side|1084|\n",
    "|Other|680|\n",
    "|Veggie Item|212|"
   ]
  },
  {
   "cell_type": "markdown",
   "metadata": {},
   "source": [
    "___"
   ]
  },
  {
   "cell_type": "markdown",
   "metadata": {},
   "source": [
    "#### Zoom In \n",
    "\n",
    "Add a sub-dimension to my `GROUP BY` Clause and a `HAVING` Clause to filter for Specialty Items. Adding a `COUNT()` Clause allows me to examine which speciality items are the most popular.\n",
    "\n",
    "<img src=https://i.pinimg.com/564x/9d/00/90/9d0090f18edbbfc7c22b68596e302cfe.jpg width=\"50\">"
   ]
  },
  {
   "cell_type": "markdown",
   "metadata": {},
   "source": [
    "```sql\n",
    "-- Filter my return set to Specialty Items item types only and see which item in this category is most popular.\n",
    "SELECT \n",
    "\titem_name,\n",
    "\tCASE\n",
    "\t\tWHEN item_name LIKE '%chicken%' THEN 'Chicken Item'\n",
    "\t\tWHEN item_name LIKE '%veggie%' THEN 'Veggie Item'\n",
    "\t\tWHEN item_name LIKE '%beef%' THEN 'Beef Item'\n",
    "\t\tWHEN item_name LIKE '%barbacoa%' \n",
    "\t\t\tOR item_name LIKE '%carnitas%' \n",
    "\t\t\tOR item_name LIKE '%steak%' THEN 'Specialty Item'\n",
    "\t\tWHEN item_name LIKE '%chips%' THEN 'Side'\n",
    "\t\tELSE 'Other'\n",
    "\t\tEND AS item_type,\n",
    "\tCOUNT(*) AS count_of_records\n",
    "FROM orders\n",
    "GROUP BY item_type, item_name\n",
    "HAVING item_type = 'Specialty Item'\n",
    "ORDER BY count_of_records DESC;\n",
    "```\n",
    "|item_name        |      item_type     |   count_of_records|\n",
    "|:-----|:-----|----:|\n",
    "|Steak Burrito     |     Specialty Item |368|\n",
    "|Steak Bowl        |     Specialty Item |211|\n",
    "|Barbacoa Burrito   |    Specialty Item |91|\n",
    "|Carnitas Bowl      |    Specialty Item |68|\n",
    "|Barbacoa Bowl       |   Specialty Item |66|\n",
    "|Carnitas Burrito    |   Specialty Item |59|\n",
    "|Steak Soft Tacos    |   Specialty Item |55|\n",
    "|Carnitas Soft Tacos  |  Specialty Item |40|\n",
    "|Steak Crispy Tacos   |  Specialty Item |35|\n",
    "|Steak Salad Bowl    |   Specialty Item |29|\n",
    "|Barbacoa Soft Tacos  |  Specialty Item |25|\n",
    "|Barbacoa Crispy Tacos | Specialty Item |11|\n",
    "|Barbacoa Salad Bowl  |  Specialty Item |10|\n",
    "|Carnitas Crispy Tacos | Specialty Item |7|\n",
    "|Carnitas Salad Bowl  |  Specialty Item |6|\n",
    "|Steak Salad          |  Specialty Item |4|\n",
    "|Carnitas Salad        | Specialty Item |1|"
   ]
  },
  {
   "cell_type": "markdown",
   "metadata": {},
   "source": [
    "___"
   ]
  },
  {
   "cell_type": "markdown",
   "metadata": {},
   "source": [
    "#### Bucket Data\n",
    "\n",
    "Create a Categorical Variable from Numeric Variable\n",
    "\n",
    "<img src=https://i.pinimg.com/564x/0e/43/26/0e43269e2d1684026a83f2e25edb8b02.jpg width=\"50\">"
   ]
  },
  {
   "cell_type": "markdown",
   "metadata": {},
   "source": [
    "```sql\n",
    "-- Create buckets for quantity to create a new categorical variable.\n",
    "SELECT\n",
    "\titem_name,\n",
    "\tCASE\n",
    "\t\tWHEN quantity = 1 THEN 'single_item'\n",
    "\t\tWHEN quantity BETWEEN 2 AND 5 THEN 'family_and_friends'\n",
    "\t\tWHEN quantity BETWEEN 6 AND 9 THEN 'small_gathering'\n",
    "\t\tWHEN quantity > 9 THEN 'party'\n",
    "\t\tELSE 'other'\n",
    "\t\tEND AS quant_cats\n",
    "FROM orders;\n",
    "```\n",
    "|item_name|quant_cats|\n",
    "|:---|:---|\n",
    "|Chips and Fresh Tomato Salsa|single_item|\n",
    "|Izze|single_item|\n",
    "|Nantucket Nectar|single_item|\n",
    "|Chips and Tomatillo-Green Chili Salsa|single_item|\n",
    "|Chicken Bowl|family_and_friends|\n",
    "..."
   ]
  },
  {
   "cell_type": "markdown",
   "metadata": {},
   "source": [
    "#### Zoom Out\n",
    "\n",
    "Add a `GROUP BY` Clause and use the `COUNT()` function to look at most common quantity category.\n",
    "\n",
    "<img src=https://i.pinimg.com/564x/41/67/ec/4167ec6a89d575055c0fab2226039399.jpg width=\"50\">"
   ]
  },
  {
   "cell_type": "markdown",
   "metadata": {},
   "source": [
    "```sql\n",
    "-- Add a GROUP BY Clause to Zoom Out and take a look at my new categorical variables quant_cats\n",
    "SELECT\n",
    "\tCOUNT(*) AS count_of_records,\n",
    "\tCASE\n",
    "\t\tWHEN quantity = 1 THEN 'single_item'\n",
    "\t\tWHEN quantity BETWEEN 2 AND 5 THEN 'family_and_friends'\n",
    "\t\tWHEN quantity BETWEEN 6 AND 9 THEN 'small_gathering'\n",
    "\t\tWHEN quantity > 9 THEN 'party'\n",
    "\t\tELSE 'other'\n",
    "\t\tEND AS quant_cats\n",
    "FROM orders\n",
    "GROUP BY quant_cats\n",
    "ORDER BY count_of_records DESC;\n",
    "```\n",
    "|count_of_records|quant_cats|\n",
    "|:--|:--|\n",
    "|4355|single_item|\n",
    "|263|family_and_friends|\n",
    "|2|party|\n",
    "|2|small_gathering|"
   ]
  },
  {
   "cell_type": "markdown",
   "metadata": {},
   "source": [
    "___"
   ]
  },
  {
   "cell_type": "markdown",
   "metadata": {},
   "source": [
    "#### Reference Multiple Columns\n",
    "\n",
    "Let's look at an example that references different columns in our `CASE` statement logic."
   ]
  },
  {
   "cell_type": "markdown",
   "metadata": {},
   "source": [
    "```sql\n",
    "-- Use mall_customers database.\n",
    "USE mall_customers;\n",
    "\n",
    "-- Check out the customers table.\n",
    "SELECT *\n",
    "FROM customers;\n",
    "```"
   ]
  },
  {
   "cell_type": "markdown",
   "metadata": {},
   "source": [
    "<img src=https://i.pinimg.com/564x/0e/43/26/0e43269e2d1684026a83f2e25edb8b02.jpg width=\"50\">"
   ]
  },
  {
   "cell_type": "markdown",
   "metadata": {},
   "source": [
    "```sql\n",
    "-- Reference more than one column in CASE Statement logic.\n",
    "SELECT\n",
    "\tgender,\n",
    "\tage,\n",
    "\tCASE\n",
    "\t\tWHEN gender = 'Male' AND age < 20 THEN 'Teen Male'\n",
    "\t\tWHEN gender = 'Male' AND age < 30 THEN 'Twenties Male'\n",
    "\t\tWHEN gender = 'Male' AND age < 40 THEN 'Thirties Male'\n",
    "\t\tWHEN gender = 'Male' AND age < 50 THEN 'Forties Male'\n",
    "\t\tWHEN gender = 'Male' AND age < 60 THEN 'Fifties Male'\n",
    "\t\tWHEN gender = 'Male' AND age < 70 THEN 'Sixties Male'\n",
    "\t\tWHEN gender = 'Male' AND age >= 70 THEN 'Older Male'\n",
    "\t\tWHEN gender = 'Female' AND age < 20 THEN 'Teen Female'\n",
    "\t\tWHEN gender = 'Female' AND age < 30 THEN 'Twenties Female'\n",
    "\t\tWHEN gender = 'Female' AND age < 40 THEN 'Thirties Female'\n",
    "\t\tWHEN gender = 'Female' AND age < 50 THEN 'Forties Female'\n",
    "\t\tWHEN gender = 'Female' AND age < 60 THEN 'Fifties Female'\n",
    "\t\tWHEN gender = 'Female' AND age < 70 THEN 'Sixties Female'\n",
    "\t\tWHEN gender = 'Female' AND age >= 70 THEN 'Older Female'\n",
    "\t\tELSE 'Other'\n",
    "\t\tEND AS gen_age_cat\n",
    "FROM customers;\n",
    "```\n",
    "|gender|age|gen_age_cat|\n",
    "|:---|:---|:---|\n",
    "|Male|19|Teen Male|\n",
    "|Male|21|Twenties Male|\n",
    "|Female|20|Twenties Female|\n",
    "|Female|23|Twenties Female|\n",
    "|Female|31|Thirties Female|\n",
    "..."
   ]
  },
  {
   "cell_type": "markdown",
   "metadata": {},
   "source": [
    "<img src=https://i.pinimg.com/564x/41/67/ec/4167ec6a89d575055c0fab2226039399.jpg width=\"50\">"
   ]
  },
  {
   "cell_type": "markdown",
   "metadata": {},
   "source": [
    "```sql\n",
    "-- Zoom Out by adding a Group By Clause and a COUNT() function.\n",
    "SELECT\n",
    "\tCASE\n",
    "\t\tWHEN gender = 'Male' AND age < 20 THEN 'Teen Male'\n",
    "\t\tWHEN gender = 'Male' AND age < 30 THEN 'Twenties Male'\n",
    "\t\tWHEN gender = 'Male' AND age < 40 THEN 'Thirties Male'\n",
    "\t\tWHEN gender = 'Male' AND age < 50 THEN 'Forties Male'\n",
    "\t\tWHEN gender = 'Male' AND age < 60 THEN 'Fifties Male'\n",
    "\t\tWHEN gender = 'Male' AND age < 70 THEN 'Sixties Male'\n",
    "\t\tWHEN gender = 'Male' AND age >= 70 THEN 'Older Male'\n",
    "\t\tWHEN gender = 'Female' AND age < 20 THEN 'Teen Female'\n",
    "\t\tWHEN gender = 'Female' AND age < 30 THEN 'Twenties Female'\n",
    "\t\tWHEN gender = 'Female' AND age < 40 THEN 'Thirties Female'\n",
    "\t\tWHEN gender = 'Female' AND age < 50 THEN 'Forties Female'\n",
    "\t\tWHEN gender = 'Female' AND age < 60 THEN 'Fifties Female'\n",
    "\t\tWHEN gender = 'Female' AND age < 70 THEN 'Sixties Female'\n",
    "\t\tWHEN gender = 'Female' AND age >= 70 THEN 'Older Female'\n",
    "\t\tELSE 'Other'\n",
    "\t\tEND AS gen_age_cat,\n",
    "\tCOUNT(*) AS count_of_customers\n",
    "FROM customers\n",
    "GROUP BY gen_age_cat\n",
    "ORDER BY count_of_customers DESC;\n",
    "\n",
    "```\n",
    "|gen_age_cat|count_of_customers|\n",
    "|:---|:---|\n",
    "|Thirties Female|37|\n",
    "|Twenties Female|26|\n",
    "|Thirties Male|24|\n",
    "|Forties Female|24|\n",
    "|Twenties Male|17|\n",
    "|Forties Male|15|\n",
    "|Fifties Female|14|\n",
    "|Fifties Male|11||\n",
    "|Sixties Male|10|\n",
    "|Teen Male|9|\n",
    "|Sixties Female|8|\n",
    "|Teen Female|3|\n",
    "|Older Male|2|"
   ]
  },
  {
   "cell_type": "markdown",
   "metadata": {},
   "source": [
    "___"
   ]
  },
  {
   "cell_type": "markdown",
   "metadata": {},
   "source": [
    "### What is the `IF()` Function\n",
    "\n",
    "<img src=https://i.pinimg.com/564x/4c/30/f7/4c30f7465fb53581fae08b0fcd95dfa9.jpg width=\"500\">"
   ]
  },
  {
   "cell_type": "markdown",
   "metadata": {},
   "source": [
    "___"
   ]
  },
  {
   "cell_type": "markdown",
   "metadata": {},
   "source": [
    "### Why Use the `IF()` Function"
   ]
  },
  {
   "cell_type": "markdown",
   "metadata": {},
   "source": [
    "<img src=https://i.pinimg.com/564x/32/bb/44/32bb4490796d5c3ce0830c7102e4e384.jpg width=\"500\">"
   ]
  },
  {
   "cell_type": "markdown",
   "metadata": {},
   "source": [
    "___"
   ]
  },
  {
   "cell_type": "markdown",
   "metadata": {},
   "source": [
    "### What Now?\n",
    "\n",
    "**Let's look at some examples.**"
   ]
  },
  {
   "cell_type": "markdown",
   "metadata": {},
   "source": [
    "```sql\n",
    "-- Use the mall_customers database.\n",
    "USE mall_customers;\n",
    "\n",
    "-- Check out the customers table.\n",
    "SELECT *\n",
    "FROM customers;\n",
    "\n",
    "-- Use an IF Function to create a dummy variable for gender.\n",
    "SELECT\n",
    "\tgender,\n",
    "\tIF(gender = 'Female', True, False) AS is_female\n",
    "FROM customers;\n",
    "```\n",
    "|gender|is_female|\n",
    "|:---|:---|\n",
    "|Male|0|\n",
    "|Male|0|\n",
    "|Female|1|\n",
    "|Female|1| \n",
    "...\n",
    "\n",
    "```sql\n",
    "-- I can create this new boolean column in another simple way, just evaulate the equality statement to True or False.\n",
    "SELECT\n",
    "\tgender,\n",
    "\tgender = 'Female' AS is_female\n",
    "FROM customers;\n",
    "```\n",
    "|gender|is_female|\n",
    "|:---|:---|\n",
    "|Male|0|\n",
    "|Male|0|\n",
    "|Female|1|\n",
    "|Female|1|\n",
    "..."
   ]
  }
 ],
 "metadata": {
  "kernelspec": {
   "display_name": "Python 3",
   "language": "python",
   "name": "python3"
  },
  "language_info": {
   "codemirror_mode": {
    "name": "ipython",
    "version": 3
   },
   "file_extension": ".py",
   "mimetype": "text/x-python",
   "name": "python",
   "nbconvert_exporter": "python",
   "pygments_lexer": "ipython3",
   "version": "3.7.4"
  },
  "toc": {
   "base_numbering": 1,
   "nav_menu": {},
   "number_sections": false,
   "sideBar": true,
   "skip_h1_title": true,
   "title_cell": "Table of Contents",
   "title_sidebar": "Contents",
   "toc_cell": false,
   "toc_position": {},
   "toc_section_display": true,
   "toc_window_display": true
  }
 },
 "nbformat": 4,
 "nbformat_minor": 4
}
