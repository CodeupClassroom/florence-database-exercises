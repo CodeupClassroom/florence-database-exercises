{
 "cells": [
  {
   "cell_type": "markdown",
   "metadata": {},
   "source": [
    "# SQL Basic Statements\n",
    "\n",
    "## Lesson Goals\n",
    "\n",
    "- Use the `SELECT` statement to read data.\n",
    "- Introduce the `DISTINCT` keyword and `WHERE` clause for filtering.\n",
    "- Understand MySQL operators.\n",
    "- Create aliases using `AS`.\n",
    "\n",
    "## Lesson Vocabulary\n",
    "\n",
    "- **A Query** is a request that returns information or records. A query can contain multiple clauses and subclauses, each containing one or more SQL keywords, but it can also be as simple as a `SELECT *` statement that returns all fields followed by a `FROM table_name` clause indicating the table you want the data to come from.\n",
    "\n",
    "\n",
    "- **A Statement** is any valid piece of code that is executable by a RDBMS.\n",
    "    - `SELECT`, `SELECT DISTINCT`\n",
    "\n",
    "\n",
    "- **A Clause** is a subsection of a query that contains at least one keyword and the accompanying information, like fields or tables, to be used with the keyword.\n",
    "    - `FROM`, `WHERE`\n",
    "\n",
    "\n",
    "- **A Keyword** is a reserved word that performs an operation.\n",
    "    - `SELECT`, `DISTINCT`, `FROM`, `WHERE`, `LIKE`\n",
    "    \n",
    "\n",
    "- **Filtering** can narrow the result set returned by your query."
   ]
  },
  {
   "cell_type": "markdown",
   "metadata": {},
   "source": [
    "___"
   ]
  },
  {
   "cell_type": "markdown",
   "metadata": {},
   "source": [
    "## What Are the Elements of the SQL Select Statement?"
   ]
  },
  {
   "cell_type": "markdown",
   "metadata": {},
   "source": [
    "![SQL SELECT Statement Elements](https://i.pinimg.com/564x/1c/56/71/1c5671e3ddb2d4a9f30d5aac74811cb3.jpg)"
   ]
  },
  {
   "cell_type": "markdown",
   "metadata": {},
   "source": [
    "___"
   ]
  },
  {
   "cell_type": "markdown",
   "metadata": {},
   "source": [
    "## So What Does Each Element Do?"
   ]
  },
  {
   "cell_type": "markdown",
   "metadata": {},
   "source": [
    "![SQL SELECT Statement Elements Explained](https://i.pinimg.com/564x/a7/03/77/a703774088ba9335de0a6b16207271d4.jpg)"
   ]
  },
  {
   "cell_type": "markdown",
   "metadata": {},
   "source": [
    "___"
   ]
  },
  {
   "cell_type": "markdown",
   "metadata": {},
   "source": [
    "## Now What?"
   ]
  },
  {
   "cell_type": "markdown",
   "metadata": {},
   "source": [
    "### Basic `SELECT` Statement"
   ]
  },
  {
   "cell_type": "markdown",
   "metadata": {},
   "source": [
    "```sql\n",
    "-- Select the database.\n",
    "USE fruits_db;\n",
    "\n",
    "-- Inspect the columns and data types from a table.\n",
    "DESCRIBE fruits;\n",
    "\n",
    "-- Another way to Inspect the columns and data types from a table.\n",
    "SHOW COLUMNS\n",
    "FROM fruits;\n",
    "\n",
    "-- Return all of the rows and columns from a table.\n",
    "SELECT *\n",
    "FROM fruits;\n",
    "\n",
    "-- Select specific column(s) and all of the rows from those column(s).\n",
    "SELECT name\n",
    "FROM fruits;\n",
    "\n",
    "SELECT name, quantity\n",
    "FROM fruits;\n",
    "```"
   ]
  },
  {
   "cell_type": "markdown",
   "metadata": {},
   "source": [
    "___"
   ]
  },
  {
   "cell_type": "markdown",
   "metadata": {},
   "source": [
    "### `SELECT DISTINCT` Statement\n",
    "\n",
    "```sql\n",
    "-- Use chiplotle database to demo a db with duplicates.\n",
    "USE chipotle;\n",
    "\n",
    "-- Inspect the columns and data types from a table.\n",
    "DESCRIBE orders;\n",
    "\n",
    "-- Return all of the rows and columns from a table. (4622 records returned)\n",
    "SELECT *\n",
    "FROM orders;\n",
    "\n",
    "/*\n",
    "Select specific column(s) and all of the rows from those column(s). \n",
    "(4622 records returned)\n",
    "*/\n",
    "\n",
    "SELECT item_name\n",
    "FROM orders;\n",
    "\n",
    "SELECT \n",
    "    item_name, \n",
    "    item_price\n",
    "FROM orders;\n",
    "\n",
    "/*\n",
    "Return only the unique values from a column using the DISTINCT keyword \n",
    "(50 records returned)\n",
    "*/\n",
    "\n",
    "SELECT DISTINCT item_name\n",
    "FROM orders;\n",
    "```"
   ]
  },
  {
   "cell_type": "markdown",
   "metadata": {},
   "source": [
    "___"
   ]
  },
  {
   "cell_type": "markdown",
   "metadata": {},
   "source": [
    "### The `WHERE` Clause"
   ]
  },
  {
   "cell_type": "markdown",
   "metadata": {},
   "source": [
    "```sql\n",
    "/*\n",
    "Filter so that only records with the value 'Chicken Bowl' in item_name are returned.\n",
    "(726 records returned)\n",
    "*/\n",
    "\n",
    "SELECT *\n",
    "FROM orders\n",
    "WHERE item_name = 'Chicken Bowl';\n",
    "\n",
    "-- Why doesn't the query below run? Never forget this lesson!\n",
    "\n",
    "SELECT *\n",
    "FROM orders\n",
    "WHERE item_price = $4.45;\n",
    "\n",
    "/*\n",
    "Filter using the primary key column; only one record will be returned because the value must be unique.\n",
    "*/\n",
    "\n",
    "SELECT *\n",
    "FROM orders\n",
    "WHERE id = 15;\n",
    "```"
   ]
  },
  {
   "cell_type": "markdown",
   "metadata": {},
   "source": [
    "___"
   ]
  },
  {
   "cell_type": "markdown",
   "metadata": {},
   "source": [
    "#### Use More Operators with `WHERE` Clause"
   ]
  },
  {
   "cell_type": "markdown",
   "metadata": {},
   "source": [
    "```sql\n",
    "-- Filter using a WHERE clause with the BETWEEN & AND operators. (Returns 39 records)\n",
    "\n",
    "SELECT *\n",
    "FROM orders \n",
    "WHERE quantity BETWEEN 3 AND 5;\n",
    "\n",
    "-- Filter using a WHERE statement >, <, <> operators. \n",
    "\n",
    "-- (returns 870 records)\n",
    "SELECT *\n",
    "FROM orders \n",
    "WHERE order_id > 1500;\n",
    "\n",
    "-- (returns 267 records)\n",
    "SELECT *\n",
    "FROM orders\n",
    "WHERE quantity <> 1;\n",
    "```"
   ]
  },
  {
   "cell_type": "markdown",
   "metadata": {},
   "source": [
    "___"
   ]
  },
  {
   "cell_type": "markdown",
   "metadata": {},
   "source": [
    "### Create Alias Using `AS`"
   ]
  },
  {
   "cell_type": "markdown",
   "metadata": {},
   "source": [
    "```sql\n",
    "-- Create an alias for a column using the AS keyword. (Returns 267 records)\n",
    "\n",
    "SELECT \n",
    "    item_name AS 'Multiple Item Order',\n",
    "    quantity AS Number\n",
    "FROM orders\n",
    "WHERE quantity >= 2;\n",
    "\n",
    "/*\n",
    "Notice that if I have spaces in my column alias, I have to put it in single quotes.\n",
    "If I do not have a space in my colum alias, I do not have to put it in quotes.\n",
    "*/\n",
    "```"
   ]
  }
 ],
 "metadata": {
  "kernelspec": {
   "display_name": "Python 3",
   "language": "python",
   "name": "python3"
  },
  "language_info": {
   "codemirror_mode": {
    "name": "ipython",
    "version": 3
   },
   "file_extension": ".py",
   "mimetype": "text/x-python",
   "name": "python",
   "nbconvert_exporter": "python",
   "pygments_lexer": "ipython3",
   "version": "3.7.4"
  },
  "toc": {
   "base_numbering": 1,
   "nav_menu": {},
   "number_sections": false,
   "sideBar": true,
   "skip_h1_title": true,
   "title_cell": "Table of Contents",
   "title_sidebar": "Contents",
   "toc_cell": false,
   "toc_position": {},
   "toc_section_display": true,
   "toc_window_display": true
  }
 },
 "nbformat": 4,
 "nbformat_minor": 4
}
