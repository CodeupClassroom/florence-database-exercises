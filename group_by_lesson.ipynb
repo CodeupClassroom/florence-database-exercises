{
 "cells": [
  {
   "cell_type": "markdown",
   "metadata": {},
   "source": [
    "# SQL `GROUP BY` Clause\n",
    "\n",
    "## Lesson Goals\n",
    "\n",
    "- Understand how to use the `GROUP BY` clause\n",
    "- Understand how to use aggregate functions with the `GROUP BY` clause to return summary statistics about a column\n",
    "    - `COUNT()`, `MIN()`, `MAX()`, `AVG()`, `SUM()`, `STDDEV()`, `VARIANCE()`"
   ]
  },
  {
   "cell_type": "markdown",
   "metadata": {},
   "source": [
    "___"
   ]
  },
  {
   "cell_type": "markdown",
   "metadata": {},
   "source": [
    "## What Are the Elements of the SQL Select Statement?"
   ]
  },
  {
   "cell_type": "markdown",
   "metadata": {},
   "source": [
    "![SQL SELECT Statement Elements](https://i.pinimg.com/564x/1c/56/71/1c5671e3ddb2d4a9f30d5aac74811cb3.jpg)"
   ]
  },
  {
   "cell_type": "markdown",
   "metadata": {},
   "source": [
    "___"
   ]
  },
  {
   "cell_type": "markdown",
   "metadata": {},
   "source": [
    "## So What Does Each Element Do?\n",
    "\n",
    "- Using a `GROUP BY` clause removes the duplicates from a column just like when we use the `DISTINCT SELECT` statement.\n",
    "- Think of using `GROUP BY` as creating segments of your data and performing analysis on those segments instead of just extracting records.\n",
    "- `GROUP BY` allows us to change the level of granularity of our data. \n",
    "    - For example, changing each row in your return set from representing a single passenger on the Titanic to representing all females or males or all third-class, second-class, and first-class passengers.\n",
    "- Think of the column(s) that I group by as the dimension(s) of my data and the aggregate function(s) as the measures(s) for my dimension(s).\n",
    "    - Dimension: What is being described - discrete value. (can be sorted)\n",
    "    - Measure: A calculation - continuous value. (can't be sorted)"
   ]
  },
  {
   "cell_type": "markdown",
   "metadata": {},
   "source": [
    "![SQL SELECT Statement Elements Explained](https://i.pinimg.com/564x/a7/03/77/a703774088ba9335de0a6b16207271d4.jpg)"
   ]
  },
  {
   "cell_type": "markdown",
   "metadata": {},
   "source": [
    "___"
   ]
  },
  {
   "cell_type": "markdown",
   "metadata": {},
   "source": [
    "## Now What?\n",
    "\n",
    "- Let's code!"
   ]
  },
  {
   "cell_type": "markdown",
   "metadata": {},
   "source": [
    "### Using the `GROUP BY` Clause\n",
    "\n",
    "- I can return the unique values from a single column or the unique combinations of values from multiple columns.\n",
    "- Non-aggregated columns in your `SELECT` statement should also be in your `GROUP BY` clause."
   ]
  },
  {
   "cell_type": "markdown",
   "metadata": {},
   "source": [
    "```sql\n",
    "USE titanic_db;\n",
    "\n",
    "-- Returns 891 records.\n",
    "SELECT *\n",
    "FROM passengers;\n",
    "\n",
    "-- Check out my data types.\n",
    "DESCRIBE passengers;\n",
    "\n",
    "-- What does a single row or record represent in the passengers table?\n",
    "SELECT *\n",
    "FROM passengers\n",
    "LIMIT 10;\n",
    "```"
   ]
  },
  {
   "cell_type": "markdown",
   "metadata": {},
   "source": [
    "**I can change the granularity or level of detail present in my result set by returning the unique values in a column or grouping by a specific dimension in my table. I can zoom in and out using GROUP BY.**\n",
    "```sql\n",
    "-- Since passenger_id is my primary key, each record represents a passenger. How many passengers are in my table? I can do an overall count of the records or rows. (There are 891 passengers in my table.)\n",
    "SELECT\n",
    "    COUNT(*) AS number_of_passengers\n",
    "FROM passengers;\n",
    "```"
   ]
  },
  {
   "cell_type": "markdown",
   "metadata": {},
   "source": [
    "```sql\n",
    "-- Return only the unique values from the class column. Now what does a single row represent? Our result set contains much less detail. Zoom out.\n",
    "-- Returns 3 rows.\n",
    "SELECT\n",
    "    DISTINCT class\n",
    "FROM passengers;\n",
    "\n",
    "-- The GROUP BY clause returns unique values in ascending order by default.\n",
    "SELECT\n",
    "    class\n",
    "FROM passengers\n",
    "GROUP BY class;\n",
    "\n",
    "-- If I want to reverse the order of the values, I can use the `DESC` keyword just like with ORDER BY.\n",
    "SELECT\n",
    "    class\n",
    "FROM passengers\n",
    "GROUP BY class DESC;\n",
    "\n",
    "-- Return only the unique values from the sex column.\n",
    "SELECT\n",
    "    DISTINCT sex\n",
    "FROM passengers;\n",
    "\n",
    "-- The GROUP BY clause returns unique values in ascending order by default.\n",
    "SELECT\n",
    "    sex\n",
    "FROM passengers\n",
    "GROUP BY sex;\n",
    "\n",
    "-- I can select multiple columns to return all of the unique combinations of values in the selected rows.\n",
    "SELECT\n",
    "    sex,\n",
    "    class\n",
    "FROM passengers\n",
    "GROUP BY sex, class;\n",
    "```"
   ]
  },
  {
   "cell_type": "markdown",
   "metadata": {},
   "source": [
    "___"
   ]
  },
  {
   "cell_type": "markdown",
   "metadata": {},
   "source": [
    "### Using`GROUP BY` to Aggregate Data\n",
    "\n",
    "- A `GROUP BY` clause can be combined with an aggregate function to turn a range of numbers into a single data point or summary metric based on a variety of mathematical operations.\n",
    "    - average, minimum, maximum, count, variance, standard deviation\n",
    "- If our column contains NULL values, the aggregate function ignores the NULL values."
   ]
  },
  {
   "cell_type": "markdown",
   "metadata": {},
   "source": [
    "```sql\n",
    "-- What if I want to look at the number of rows in a column for each unique value? I can use an aggregate function.\n",
    "SELECT\n",
    "    sex,\n",
    "    COUNT(*) as number_of_passengers\n",
    "FROM passengers\n",
    "GROUP BY sex;\n",
    "\n",
    "-- The * returns the count of non-NULL values in the column; I can use the specific column name if I'm not concerned about NULL values.\n",
    "SELECT\n",
    "    sex,\n",
    "    COUNT(sex) as number_of_passengers\n",
    "FROM passengers\n",
    "GROUP BY sex;\n",
    "\n",
    "-- Check out the difference. Just be aware of this difference when you decide what you pass to the COUNT function.\n",
    "SELECT \n",
    "    deck,\n",
    "    COUNT(deck) as 'non-null-values',\n",
    "    COUNT(*) as 'all_rows'\n",
    "FROM passengers\n",
    "GROUP BY deck;\n",
    "\n",
    "-- What if we want to look at the number of rows for each unique combination of values in multiple columns?\n",
    "SELECT\n",
    "    sex,\n",
    "    class,\n",
    "    COUNT(*) as number_of_passengers\n",
    "FROM passengers\n",
    "GROUP BY sex, class;\n",
    "\n",
    "-- Let's choose another dimension and a couple of different measures to further analyze our data. I'm formatting using the ROUND() function.\n",
    "SELECT\n",
    "    sex,\n",
    "    ROUND(AVG(fare), 2) AS average_fare_paid,\n",
    "    MIN(fare) AS minimum_fare_paid,\n",
    "    ROUND(MAX(fare), 2) AS maximum_fare_paid,\n",
    "    ROUND(STDDEV(fare), 2) AS standard_deviation_in_fare\n",
    "FROM passengers\n",
    "GROUP BY sex;\n",
    "\n",
    "-- Let's drill down one more layer by adding the sub-dimension class. I'm basically creating a table of summary statistics for my\n",
    "SELECT\n",
    "    sex,\n",
    "    class,\n",
    "    ROUND(AVG(fare), 2) AS average_fare_paid,\n",
    "    ROUND(MIN(fare), 2) AS minimum_fare_paid,\n",
    "    ROUND(MAX(fare), 2) AS maximum_fare_paid,\n",
    "    ROUND(STDDEV(fare), 2) AS standard_deviation_in_fare\n",
    "FROM passengers\n",
    "GROUP BY sex, class;\n",
    "\n",
    "```"
   ]
  }
 ],
 "metadata": {
  "kernelspec": {
   "display_name": "Python 3",
   "language": "python",
   "name": "python3"
  },
  "language_info": {
   "codemirror_mode": {
    "name": "ipython",
    "version": 3
   },
   "file_extension": ".py",
   "mimetype": "text/x-python",
   "name": "python",
   "nbconvert_exporter": "python",
   "pygments_lexer": "ipython3",
   "version": "3.7.4"
  },
  "toc": {
   "base_numbering": 1,
   "nav_menu": {},
   "number_sections": false,
   "sideBar": true,
   "skip_h1_title": true,
   "title_cell": "Table of Contents",
   "title_sidebar": "Contents",
   "toc_cell": false,
   "toc_position": {},
   "toc_section_display": true,
   "toc_window_display": true
  }
 },
 "nbformat": 4,
 "nbformat_minor": 4
}
